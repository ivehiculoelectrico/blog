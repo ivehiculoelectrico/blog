{
 "cells": [
  {
   "cell_type": "code",
   "execution_count": 1,
   "id": "47345c9a",
   "metadata": {},
   "outputs": [
    {
     "data": {
      "text/html": [
       "<style>\n",
       "img {\n",
       "  display: block;\n",
       "  margin-left: auto;\n",
       "  margin-right: auto;\n",
       "}\n",
       "\n",
       "table {\n",
       "  display: block;\n",
       "  margin-left: auto;\n",
       "  margin-right: auto;\n",
       "}\n",
       "\n",
       "\n",
       ".dataframe {\n",
       "  display: block;\n",
       "  margin-left: auto;\n",
       "  margin-right: auto;\n",
       "  width: 40%;\n",
       "}\n",
       "\n",
       "\n",
       "</style>\n",
       "<script>\n",
       "code_show=true; \n",
       "function code_toggle() {\n",
       " if (code_show){\n",
       " $('div.input').hide();\n",
       " } else {\n",
       " $('div.input').show();\n",
       " }\n",
       " code_show = !code_show\n",
       "} \n",
       "$( document ).ready(code_toggle);\n",
       "</script>\n",
       "\n",
       "<form action=\"javascript:code_toggle()\"><input type=\"submit\" value=\"\"></form>\n",
       "\n"
      ],
      "text/plain": [
       "<IPython.core.display.HTML object>"
      ]
     },
     "metadata": {},
     "output_type": "display_data"
    }
   ],
   "source": [
    "%%html\n",
    "<style>\n",
    "img {\n",
    "  display: block;\n",
    "  margin-left: auto;\n",
    "  margin-right: auto;\n",
    "}\n",
    "\n",
    "table {\n",
    "  display: block;\n",
    "  margin-left: auto;\n",
    "  margin-right: auto;\n",
    "}\n",
    "\n",
    "\n",
    ".dataframe {\n",
    "  display: block;\n",
    "  margin-left: auto;\n",
    "  margin-right: auto;\n",
    "  width: 40%;\n",
    "}\n",
    "\n",
    "\n",
    "</style>\n",
    "<script>\n",
    "code_show=true; \n",
    "function code_toggle() {\n",
    " if (code_show){\n",
    " $('div.input').hide();\n",
    " } else {\n",
    " $('div.input').show();\n",
    " }\n",
    " code_show = !code_show\n",
    "} \n",
    "$( document ).ready(code_toggle);\n",
    "</script>\n",
    "\n",
    "<form action=\"javascript:code_toggle()\"><input type=\"submit\" value=\"\"></form>\n",
    "\n"
   ]
  },
  {
   "cell_type": "code",
   "execution_count": 2,
   "id": "687e6c53",
   "metadata": {},
   "outputs": [
    {
     "name": "stdout",
     "output_type": "stream",
     "text": [
      "\u001b[0m\u001b[01;34mANEXO\u001b[0m/  ERVE.ipynb  erve.yaml  \u001b[01;34mesquemas\u001b[0m/\r\n"
     ]
    }
   ],
   "source": [
    "ls"
   ]
  },
  {
   "cell_type": "code",
   "execution_count": 7,
   "id": "ca084f88",
   "metadata": {},
   "outputs": [],
   "source": [
    "import yaml\n",
    "import json\n",
    "import requests\n",
    "import pandas as pd\n",
    "from IPython.display import display, HTML\n",
    "from numpy import *\n",
    "\n",
    "fichero=\"erve.yaml\"\n",
    "with open(fichero) as file:\n",
    "    # The FullLoader parameter handles the conversion from YAML\n",
    "    # scalar values to Python the dictionary format\n",
    "    jsn = yaml.load(file, Loader=yaml.FullLoader)\n"
   ]
  },
  {
   "cell_type": "code",
   "execution_count": 8,
   "id": "249a7dd8",
   "metadata": {},
   "outputs": [
    {
     "data": {
      "text/plain": [
       "{'ITC': {'1. OBJETO Y ÁMBITO DE APLICACIÓN.': None,\n",
       "  '2. TÉRMINOS Y DEFINICIONES.': {'SAVE': None,\n",
       "   'SPL': None,\n",
       "   'Modo de carga': {1: {'Imax': 16,\n",
       "     'duracion': '1-8 h',\n",
       "     'protecion': False,\n",
       "     'piloto': False,\n",
       "     'SAVE': False},\n",
       "    2: {'Imax': 32,\n",
       "     'duracion': '1-8 h',\n",
       "     'protecion': 'SI',\n",
       "     'piloto': 'SI',\n",
       "     'SAVE': False},\n",
       "    3: {'Imax': 32,\n",
       "     'duracion': '1-8 h',\n",
       "     'protecion': 'SI',\n",
       "     'piloto': False,\n",
       "     'SAVE': 'SI'},\n",
       "    4: {'Imax': 125,\n",
       "     'duracion': '0.5 h',\n",
       "     'protecion': None,\n",
       "     'piloto': False,\n",
       "     'SAVE': 'SI'}}},\n",
       "  '3. ESQUEMAS DE INSTALACIÓN PARA LA RECARGA DE VEHÍCULOS ELÉCTRICOS.': {'tipo': '1 Esquema colectivo o troncal con un contador principal en el origen de la instalación. 2 Esquema individual con un contador común para la vivienda y la estación de recarga. 3 Esquema individual con un contador para cada estación de recarga. 3.1 Instalación en aparcamientos de viviendas unifamiliares 3.2 Instalación en aparcamientos o estacionamientos colectivos en edificios o conjuntos inmobiliarios en régimen de propiedadhorizontal. 3.3. Otras instalaciones de recarga. 4 Esquema con circuito o circuitos adicionales para la recarga del VEHÍCULO ELÉCTRICO.'},\n",
       "  '4. PREVISIÓN DE CARGAS SEGÚN EL ESQUEMA DE LA INSTALACIÓN.': '4.1. Esquema colectivo con un contador principal común (esquemas 1a, 1b y 1c). 4.2. Esquema individual (esquemas 2, 3a y 3b) 4.3. Esquema 4 (esquemas 4a y 4b).',\n",
       "  '5.REQUISITOS GENERALES DE LA INSTALACIÓN': '5.1 Alimentación. 5.2 Sistemas de conexión del neutro. 5.3 Canalizaciones. 5.4 Punto de conexión. 5.5 Contador secundario de medida de energía.',\n",
       "  '6. PROTECCIÓN PARA GARANTIZAR LA SEGURIDAD.': '6.1 Medidas de protección contra contactos directos e indirectos. 6.2 Medidas de protección en función de las influencias externas. 6.3 Medidas de protección contra sobreintensidades 6.4 Medidas de protección contra sobretensiones.',\n",
       "  '7. CONDICIONES PARTICULARES DE INSTALACIÓN.': '7.1 Red de tierra para plazas de aparcamiento en el exterior.'},\n",
       " 'titularidad': {'colectiva': {'1 IRVE': {'preinstalacion': '20 m'},\n",
       "   '3 ESQUEMA': {'2 contadores': '1a 1b 1c', '1 contador': '2 3a 3b'},\n",
       "   '2 MODOS': '1 LENTO 2 LENTO PILOTO 3 SAVE RAPIDO',\n",
       "   '5.4 CONECTOR': 'SCHUCKO MENNEKES',\n",
       "   '4 PREVISION DE CARGAS': {'cs': '0.3 cn SPL'},\n",
       "   '6.1 PROTECCION': 'Int.Dif. 0.30 ma Int.Auto>16/63A',\n",
       "   '6.2 OTROS': 'Int. IP 44 IK08 Ext. IP 54 IK 10 Proteccion Sobretensiones'},\n",
       "  'individual': {'4 PREVISION DE CARGAS': {'cs': 1},\n",
       "   '6.2 OTROS': 'Int. IP 44 IK08 Ext. IP 54 IK 10 Proteccion Sobretensiones',\n",
       "   '6.1 PROTECCION': 'Int.Dif. 0.30 ma Int.Auto>16/63A',\n",
       "   '5.4 CONECTOR': 'SCHUCKO MENNEKES',\n",
       "   '2 MODOS': '1 LENTO 2 LENTO PILOTO 3 SAVE RAPIDO',\n",
       "   '1 IRVE': 'C13 flota 1/40',\n",
       "   '3 ESQUEMA': '4a 4b'},\n",
       "  'publica': {'4 PREVISION DE CARGAS': {'cs': 1},\n",
       "   '6.2 OTROS': 'Int. IP 44 IK08 Ext. IP 54 IK 10 Proteccion Sobretensiones',\n",
       "   '6.1 PROTECCION': 'Int.Dif. 0.30 ma Int.Auto>16/63A',\n",
       "   '5.4 CONECTOR': 'MENNEKES COMBO',\n",
       "   '2 MODOS': '3 SAVE RAPIDO 4 SAVE MUY RAPIDO',\n",
       "   '1 IRVE': '1/40',\n",
       "   '3 ESQUEMA': '4b'}},\n",
       " 'MODOS DE CARGA': {1: {'denominacion': 'DIRECTO',\n",
       "   'tomas de corriente': 'SCHUKO',\n",
       "   'I_max': 16,\n",
       "   'comunicacion': False},\n",
       "  2: {'denominacion': 'PILOTO',\n",
       "   'tomas de corriente': 'SCHUKO',\n",
       "   'I_max': 32,\n",
       "   'comunicacion': 'SI'},\n",
       "  3: {'denominacion': 'SAVE',\n",
       "   'tomas de corriente': None,\n",
       "   'I_max': None,\n",
       "   'comunicacion': None},\n",
       "  4: {'denominacion': 'SAVE RAPIDO',\n",
       "   'tomas de corriente': None,\n",
       "   'I_max': None,\n",
       "   'comunicacion': None}},\n",
       " 'esquema DE INSTALACION': {1: {'SPL': 'SI',\n",
       "   'a': {'wh': 'SI', 'wh_secundario': 'estacion', 'CC': False},\n",
       "   'b': {'wh': 'SI', 'wh_secundario': 'estacion', 'CC': 'SI'},\n",
       "   'c': {'wh': 'SI', 'wh_secundario': 'cc', 'CC': 'SI'}},\n",
       "  2: {'a': {'wh': 'SI', 'wh_secundario': False, 'CC': False}},\n",
       "  3: {'a': {'wh': 'SI', 'wh_secundario': 'contrato', 'CC': False},\n",
       "   'b': {'wh': 'SI', 'wh_secundario': 'contrato', 'CC': 'SI'}},\n",
       "  4: {'a': {'c13 adicional': False}, 'b': {'c13 adicional': 'si'}}},\n",
       " 'ITC afectadas': {'ITC bt-04': {'grupo Z': {1: {'Tipo de Instalación': 'Las correspondientes a las infraestructuras para la recarga  del vehículo eléctrico.',\n",
       "     'Limites': 'P> 50 kW'},\n",
       "    2: {'Tipo de Instalación': 'Otras instalaciones de recarga situadas en el exterior.',\n",
       "     'Limites': 'P > 10 kW'},\n",
       "    3: {'Tipo de Instalación': 'Todas las instalaciones que incluyan estaciones de recarga  previstas para el modo de carga 4.',\n",
       "     'Limites': 'Según corresponda'}}},\n",
       "  'ITC bt-05': {'grupo h': {'Tipo de instalacion': 'Instalaciones de las estaciones de recarga para el vehículo eléctrico, que requieran la elaboración de proyecto para su ejecución.',\n",
       "    'Inspeccion': 'todos'}},\n",
       "  'ITC-BT-10': {'pot': '3680  * 0.1 * total de las plazas de aparcamiento',\n",
       "   'FS': '1 sin SPL / 0.3 con SPL (ojo 100 KW extenson de red)',\n",
       "   'viviendas unifamiliares con garaje': {'potencia': '9200/11500/14490',\n",
       "    'IGA': '40 / 50 / 63',\n",
       "    'ejm': {'p1': {'denom': 'conjunto de viviendas',\n",
       "      'NUMERO': 20,\n",
       "      'pot': 5750,\n",
       "      'fs': 14.8},\n",
       "     'p2': {'denom': 'servicios generales',\n",
       "      'ascensor': '7.5 kw',\n",
       "      'alumbrado': '1kw'},\n",
       "     'p3': {'denom': 'locales comerciales', 'pot': '4 kw'},\n",
       "     'p4': {'denom': 'garajes disteinta recarga', 'pot': 0},\n",
       "     'p5': {'denom': 'recarga', 'pot': '3680 * 20', 'cs': 0.1},\n",
       "     'total': {'sinSPL': '105 kW', 'conSPL': '99 KW'},\n",
       "     'extension': 'RD 1048/2013 art 25'}}},\n",
       "  'ITC-BT-16': ['Unidad funcional de medida destinada a la medida de la recarga del vehículo eléctrico (según el tipo de esquema eléctrico utilizado de los indicados en la BT-52).',\n",
       "   'Unidad funcional de mando y protección para la recarga del vehículo eléctrico [según el tipo de esquema eléctrico utilizado de los indicados en la (ITC) BT-52].',\n",
       "   'Unidad de sistema de protección de la línea general de alimentación (SPL) del vehículo eléctrico [según el tipo de esquema eléctrico utilizado de los indicados en la (ITC) BT-52 y según se trate de una instalación nueva o ya existente].»'],\n",
       "  'ITC-BT-25': {'C13': {'POTENCIA PREVISTA': None,\n",
       "    'FS': None,\n",
       "    'fu': None,\n",
       "    'Tipo de toma': None,\n",
       "    'Interruptor automatico': None,\n",
       "    'Maximo numero de puntos': 3,\n",
       "    'Conductores seccion minima': 2.5,\n",
       "    'tubo': 20}}}}"
      ]
     },
     "execution_count": 8,
     "metadata": {},
     "output_type": "execute_result"
    }
   ],
   "source": [
    "jsn"
   ]
  },
  {
   "cell_type": "code",
   "execution_count": 9,
   "id": "07148541",
   "metadata": {},
   "outputs": [
    {
     "data": {
      "text/html": [
       "<div>\n",
       "<style scoped>\n",
       "    .dataframe tbody tr th:only-of-type {\n",
       "        vertical-align: middle;\n",
       "    }\n",
       "\n",
       "    .dataframe tbody tr th {\n",
       "        vertical-align: top;\n",
       "    }\n",
       "\n",
       "    .dataframe thead th {\n",
       "        text-align: right;\n",
       "    }\n",
       "</style>\n",
       "<table border=\"1\" class=\"dataframe\">\n",
       "  <thead>\n",
       "    <tr style=\"text-align: right;\">\n",
       "      <th></th>\n",
       "      <th>colectiva</th>\n",
       "      <th>individual</th>\n",
       "      <th>publica</th>\n",
       "    </tr>\n",
       "  </thead>\n",
       "  <tbody>\n",
       "    <tr>\n",
       "      <th>1 IRVE</th>\n",
       "      <td>{'preinstalacion': '20 m'}</td>\n",
       "      <td>C13 flota 1/40</td>\n",
       "      <td>1/40</td>\n",
       "    </tr>\n",
       "    <tr>\n",
       "      <th>3 ESQUEMA</th>\n",
       "      <td>{'2 contadores': '1a 1b 1c', '1 contador': '2 ...</td>\n",
       "      <td>4a 4b</td>\n",
       "      <td>4b</td>\n",
       "    </tr>\n",
       "    <tr>\n",
       "      <th>2 MODOS</th>\n",
       "      <td>1 LENTO 2 LENTO PILOTO 3 SAVE RAPIDO</td>\n",
       "      <td>1 LENTO 2 LENTO PILOTO 3 SAVE RAPIDO</td>\n",
       "      <td>3 SAVE RAPIDO 4 SAVE MUY RAPIDO</td>\n",
       "    </tr>\n",
       "    <tr>\n",
       "      <th>5.4 CONECTOR</th>\n",
       "      <td>SCHUCKO MENNEKES</td>\n",
       "      <td>SCHUCKO MENNEKES</td>\n",
       "      <td>MENNEKES COMBO</td>\n",
       "    </tr>\n",
       "    <tr>\n",
       "      <th>4 PREVISION DE CARGAS</th>\n",
       "      <td>{'cs': '0.3 cn SPL'}</td>\n",
       "      <td>{'cs': 1}</td>\n",
       "      <td>{'cs': 1}</td>\n",
       "    </tr>\n",
       "    <tr>\n",
       "      <th>6.1 PROTECCION</th>\n",
       "      <td>Int.Dif. 0.30 ma Int.Auto&gt;16/63A</td>\n",
       "      <td>Int.Dif. 0.30 ma Int.Auto&gt;16/63A</td>\n",
       "      <td>Int.Dif. 0.30 ma Int.Auto&gt;16/63A</td>\n",
       "    </tr>\n",
       "    <tr>\n",
       "      <th>6.2 OTROS</th>\n",
       "      <td>Int. IP 44 IK08 Ext. IP 54 IK 10 Proteccion So...</td>\n",
       "      <td>Int. IP 44 IK08 Ext. IP 54 IK 10 Proteccion So...</td>\n",
       "      <td>Int. IP 44 IK08 Ext. IP 54 IK 10 Proteccion So...</td>\n",
       "    </tr>\n",
       "  </tbody>\n",
       "</table>\n",
       "</div>"
      ],
      "text/plain": [
       "                                                               colectiva  \\\n",
       "1 IRVE                                        {'preinstalacion': '20 m'}   \n",
       "3 ESQUEMA              {'2 contadores': '1a 1b 1c', '1 contador': '2 ...   \n",
       "2 MODOS                             1 LENTO 2 LENTO PILOTO 3 SAVE RAPIDO   \n",
       "5.4 CONECTOR                                            SCHUCKO MENNEKES   \n",
       "4 PREVISION DE CARGAS                               {'cs': '0.3 cn SPL'}   \n",
       "6.1 PROTECCION                          Int.Dif. 0.30 ma Int.Auto>16/63A   \n",
       "6.2 OTROS              Int. IP 44 IK08 Ext. IP 54 IK 10 Proteccion So...   \n",
       "\n",
       "                                                              individual  \\\n",
       "1 IRVE                                                    C13 flota 1/40   \n",
       "3 ESQUEMA                                                          4a 4b   \n",
       "2 MODOS                             1 LENTO 2 LENTO PILOTO 3 SAVE RAPIDO   \n",
       "5.4 CONECTOR                                            SCHUCKO MENNEKES   \n",
       "4 PREVISION DE CARGAS                                          {'cs': 1}   \n",
       "6.1 PROTECCION                          Int.Dif. 0.30 ma Int.Auto>16/63A   \n",
       "6.2 OTROS              Int. IP 44 IK08 Ext. IP 54 IK 10 Proteccion So...   \n",
       "\n",
       "                                                                 publica  \n",
       "1 IRVE                                                              1/40  \n",
       "3 ESQUEMA                                                             4b  \n",
       "2 MODOS                                  3 SAVE RAPIDO 4 SAVE MUY RAPIDO  \n",
       "5.4 CONECTOR                                              MENNEKES COMBO  \n",
       "4 PREVISION DE CARGAS                                          {'cs': 1}  \n",
       "6.1 PROTECCION                          Int.Dif. 0.30 ma Int.Auto>16/63A  \n",
       "6.2 OTROS              Int. IP 44 IK08 Ext. IP 54 IK 10 Proteccion So...  "
      ]
     },
     "execution_count": 9,
     "metadata": {},
     "output_type": "execute_result"
    }
   ],
   "source": [
    "# pd.DataFrame.from_dict(df['ITC afectadas']['ITC-BT-10']['viviendas unifamiliares con garaje']['ejm'])\n",
    "# pd.DataFrame.from_dict(df['ITC afectadas']['ITC-BT-16'])\n",
    "pd.DataFrame.from_dict(jsn['titularidad'])"
   ]
  },
  {
   "cell_type": "code",
   "execution_count": null,
   "id": "7ea10f9d",
   "metadata": {},
   "outputs": [],
   "source": []
  },
  {
   "cell_type": "code",
   "execution_count": null,
   "id": "062b91a4",
   "metadata": {},
   "outputs": [],
   "source": []
  },
  {
   "cell_type": "code",
   "execution_count": 10,
   "id": "00fea14b",
   "metadata": {},
   "outputs": [
    {
     "data": {
      "text/html": [
       "<h3>Salidas</h3>"
      ],
      "text/plain": [
       "<IPython.core.display.HTML object>"
      ]
     },
     "metadata": {},
     "output_type": "display_data"
    },
    {
     "data": {
      "text/html": [
       "<p></p>"
      ],
      "text/plain": [
       "<IPython.core.display.HTML object>"
      ]
     },
     "metadata": {},
     "output_type": "display_data"
    },
    {
     "data": {
      "text/html": [
       "<p></p>"
      ],
      "text/plain": [
       "<IPython.core.display.HTML object>"
      ]
     },
     "metadata": {},
     "output_type": "display_data"
    },
    {
     "data": {
      "text/html": [],
      "text/plain": [
       "<IPython.core.display.HTML object>"
      ]
     },
     "metadata": {},
     "output_type": "display_data"
    },
    {
     "data": {
      "text/html": [
       "<style  type=\"text/css\" >\n",
       "</style><table id=\"T_42122_\" ><thead>    <tr>        <th class=\"blank level0\" ></th>        <th class=\"col_heading level0 col0\" >0</th>    </tr></thead><tbody>\n",
       "                <tr>\n",
       "                        <th id=\"T_42122_level0_row0\" class=\"row_heading level0 row0\" >SPL</th>\n",
       "                        <td id=\"T_42122_row0_col0\" class=\"data row0 col0\" >SI</td>\n",
       "            </tr>\n",
       "            <tr>\n",
       "                        <th id=\"T_42122_level0_row1\" class=\"row_heading level0 row1\" >a</th>\n",
       "                        <td id=\"T_42122_row1_col0\" class=\"data row1 col0\" >{'wh': 'SI', 'wh_secundario': 'estacion', 'CC': False}</td>\n",
       "            </tr>\n",
       "            <tr>\n",
       "                        <th id=\"T_42122_level0_row2\" class=\"row_heading level0 row2\" >b</th>\n",
       "                        <td id=\"T_42122_row2_col0\" class=\"data row2 col0\" >{'wh': 'SI', 'wh_secundario': 'estacion', 'CC': 'SI'}</td>\n",
       "            </tr>\n",
       "            <tr>\n",
       "                        <th id=\"T_42122_level0_row3\" class=\"row_heading level0 row3\" >c</th>\n",
       "                        <td id=\"T_42122_row3_col0\" class=\"data row3 col0\" >{'wh': 'SI', 'wh_secundario': 'cc', 'CC': 'SI'}</td>\n",
       "            </tr>\n",
       "    </tbody></table>"
      ],
      "text/plain": [
       "<IPython.core.display.HTML object>"
      ]
     },
     "metadata": {},
     "output_type": "display_data"
    }
   ],
   "source": [
    "df_html=[\n",
    "{\n",
    "            'tab': pd.DataFrame.from_dict(jsn['esquema DE INSTALACION'][1],orient=\"index\").style.render() ,\n",
    "            'fig': '',\n",
    "            'tit': 'Salidas',\n",
    "            'tx1':'',\n",
    "            'tx2':'',\n",
    "        },\n",
    "]\n",
    "\n",
    "for x in range(size(jsn)):\n",
    "    display(HTML('<h3>' +df_html[x]['tit']+'</h3>')) \n",
    "    display(HTML('<p>' +df_html[x]['tx1']+'</p>')) \n",
    "    display(HTML('<p>' +df_html[x]['tx2']+'</p>')) \n",
    "    display(HTML(df_html[x]['fig']))\n",
    "    display(HTML(df_html[x]['tab']))"
   ]
  },
  {
   "cell_type": "code",
   "execution_count": null,
   "id": "032a9036",
   "metadata": {},
   "outputs": [],
   "source": []
  },
  {
   "cell_type": "code",
   "execution_count": null,
   "id": "73ad9bd9",
   "metadata": {},
   "outputs": [],
   "source": []
  }
 ],
 "metadata": {
  "kernelspec": {
   "display_name": "Python 3",
   "language": "python",
   "name": "python3"
  },
  "language_info": {
   "codemirror_mode": {
    "name": "ipython",
    "version": 3
   },
   "file_extension": ".py",
   "mimetype": "text/x-python",
   "name": "python",
   "nbconvert_exporter": "python",
   "pygments_lexer": "ipython3",
   "version": "3.8.5"
  }
 },
 "nbformat": 4,
 "nbformat_minor": 5
}
