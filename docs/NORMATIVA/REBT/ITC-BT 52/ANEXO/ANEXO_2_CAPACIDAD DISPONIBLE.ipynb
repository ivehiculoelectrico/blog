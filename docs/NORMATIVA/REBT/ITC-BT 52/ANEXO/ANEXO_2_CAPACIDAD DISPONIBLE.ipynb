{
 "cells": [
  {
   "cell_type": "markdown",
   "id": "2b0c6d0a",
   "metadata": {},
   "source": [
    "# DETERMINACIÓN DE LA CAPACIDAD DISPONIBLE POR UN CONSUMIDOR DOMÉSTICOPARA REALIZAR LA RECARGA DEL VE SIN AMPLIAR LA POTENCIA"
   ]
  },
  {
   "cell_type": "code",
   "execution_count": 1,
   "id": "b8bd653c",
   "metadata": {
    "code_folding": []
   },
   "outputs": [
    {
     "data": {
      "text/html": [
       "<style>\n",
       "img {\n",
       "  display: block;\n",
       "  margin-left: auto;\n",
       "  margin-right: auto;\n",
       "}\n",
       "\n",
       "table {\n",
       "  display: block;\n",
       "  margin-left: auto;\n",
       "  margin-right: auto;\n",
       "}\n",
       "\n",
       "\n",
       ".dataframe {\n",
       "  display: block;\n",
       "  margin-left: auto;\n",
       "  margin-right: auto;\n",
       "  width: 40%;\n",
       "}\n",
       "\n",
       "\n",
       "</style>\n",
       "<script>\n",
       "code_show=true; \n",
       "function code_toggle() {\n",
       " if (code_show){\n",
       " $('div.input').hide();\n",
       " } else {\n",
       " $('div.input').show();\n",
       " }\n",
       " code_show = !code_show\n",
       "} \n",
       "$( document ).ready(code_toggle);\n",
       "</script>\n",
       "\n",
       "<form action=\"javascript:code_toggle()\"><input type=\"submit\" value=\"\"></form>\n"
      ],
      "text/plain": [
       "<IPython.core.display.HTML object>"
      ]
     },
     "metadata": {},
     "output_type": "display_data"
    }
   ],
   "source": [
    "%%html\n",
    "<style>\n",
    "img {\n",
    "  display: block;\n",
    "  margin-left: auto;\n",
    "  margin-right: auto;\n",
    "}\n",
    "\n",
    "table {\n",
    "  display: block;\n",
    "  margin-left: auto;\n",
    "  margin-right: auto;\n",
    "}\n",
    "\n",
    "\n",
    ".dataframe {\n",
    "  display: block;\n",
    "  margin-left: auto;\n",
    "  margin-right: auto;\n",
    "  width: 40%;\n",
    "}\n",
    "\n",
    "\n",
    "</style>\n",
    "<script>\n",
    "code_show=true; \n",
    "function code_toggle() {\n",
    " if (code_show){\n",
    " $('div.input').hide();\n",
    " } else {\n",
    " $('div.input').show();\n",
    " }\n",
    " code_show = !code_show\n",
    "} \n",
    "$( document ).ready(code_toggle);\n",
    "</script>\n",
    "\n",
    "<form action=\"javascript:code_toggle()\"><input type=\"submit\" value=\"\"></form>\n"
   ]
  },
  {
   "cell_type": "code",
   "execution_count": null,
   "id": "ba19d4c3",
   "metadata": {},
   "outputs": [],
   "source": [
    "# https://github.com/knyete/PythonDataScienceHandbook/blob/master/notebooks/04.10-Customizing-Ticks.ipynb"
   ]
  },
  {
   "cell_type": "markdown",
   "id": "a8e1c3d3",
   "metadata": {},
   "source": [
    "ANEXO 3 DE LA GUÍA. \n",
    "# [DETERMINACIÓN DE LA CAPACIDAD DISPONIBLE POR UN CONSUMIDOR DOMÉSTICOPARA REALIZAR LA RECARGA DEL VE SIN AMPLIAR LA POTENCIA.](http://www.f2i2.net/documentos/lsiF2I2/rbt/guias/guia_bt_52_nov17R1.pdf)"
   ]
  },
  {
   "cell_type": "markdown",
   "id": "b96ee318",
   "metadata": {},
   "source": [
    "## Introduccion"
   ]
  },
  {
   "cell_type": "markdown",
   "id": "395f5e22",
   "metadata": {},
   "source": [
    "El operador del sistema [(Red Eléctrica de España)](https://www.ree.es/es/clientes/consumidor/gestion-medidas-electricas/consulta-perfiles-de-consumo), calcula y publica regularmente las medidas de la demanda del\n",
    "sistema eléctrico peninsular y los perfiles finales de consumo. Gracias al proyecto perfila, estos perfiles de consumo\n",
    "aplicables a los consumidores domésticos se han podido determinar con precisión.\n",
    "\n",
    "En base a esta información, y con el objetivo de poder estimar de una manera razonable y robusta el margen de\n",
    "capacidad libre o “hueco” que tendrían los consumidores domésticos para realizar la cargar nocturna del VE, se han\n",
    "tomado los valores máximos para cada periodo horario del coeficiente de perfilado A publicado por REE durante el\n",
    "año 2015. Estos valores, ajustados en base 100 para el valor máximo de dicho coeficiente horario, han sido\n",
    "representados en la siguiente gráfica."
   ]
  },
  {
   "cell_type": "code",
   "execution_count": 2,
   "id": "a58ef59b",
   "metadata": {},
   "outputs": [],
   "source": [
    "filename='perfiles_iniciales_2021.xlsx'\n",
    "# 4. Clasificación de consumidoresa) \n",
    "# Para el conjunto de perfiles I recogidos en el anexo III se establecen los siguientes perfiles:\n",
    "# 1.º Perfil  tipo  Pa:  De  aplicación  a  la  categoría  de  consumidores  con  peajes  de  acceso 2.0 A y 2.1 A.\n",
    "# 2.º Perfil  tipo  Pb:  De  aplicación  a  la  categoría  de  consumidores  con  peajes  de  acceso 2.0 DHA y 2.1 DHA.\n",
    "# 3.º Perfil  tipo  Pc:  De  aplicación  a  la  categoría  de  consumidores  con  peajes  de  acceso 3.0 A y 3.1  A  con  registro  en 6  períodos,  de  acuerdo  con  lo  establecido  en  el  punto 5.a) siguiente.\n",
    "# 4.º Perfil tipo Pd: De aplicación a la categoría consumidores con peaje de acceso 2.0 DHS y 2.1 DHS.\n"
   ]
  },
  {
   "cell_type": "code",
   "execution_count": 3,
   "id": "f59954c8",
   "metadata": {
    "code_folding": [
     0
    ]
   },
   "outputs": [],
   "source": [
    "# para produccion descomentar al final p y comentar d\n",
    "\n",
    "from flask import (render_template, redirect, url_for)\n",
    "# curvas anuales\n",
    "import urllib.parse\n",
    "import urllib.request\n",
    "import json\n",
    "import datetime\n",
    "from numpy.lib.function_base import diff\n",
    "import pandas as pd\n",
    "import requests as requests\n",
    "from numpy import *\n",
    "import matplotlib.pyplot as plt\n",
    "import base64\n",
    "from io import BytesIO\n",
    "import io\n",
    "from matplotlib.figure import Figure\n",
    "import numpy as np\n",
    "from windrose import WindroseAxes\n",
    "import warnings\n",
    "warnings.filterwarnings('ignore')\n",
    "\n",
    "def readAllSheets(filename):\n",
    "    xls = pd.ExcelFile(filename)\n",
    "    sheets = xls.sheet_names\n",
    "    libro = {}\n",
    "    for sheet in sheets:\n",
    "        libro[sheet] = xls.parse(sheet, index_col=0)\n",
    "        libro[sheet] = libro[sheet].fillna('')\n",
    "    xls.close()\n",
    "    \n",
    "    return libro"
   ]
  },
  {
   "cell_type": "code",
   "execution_count": 4,
   "id": "5c62b9b5",
   "metadata": {},
   "outputs": [],
   "source": [
    "libro = readAllSheets(filename)\n",
    "hojas = libro.keys()"
   ]
  },
  {
   "cell_type": "code",
   "execution_count": null,
   "id": "cde4307f",
   "metadata": {},
   "outputs": [],
   "source": []
  },
  {
   "cell_type": "code",
   "execution_count": 5,
   "id": "d7e32ede",
   "metadata": {},
   "outputs": [],
   "source": [
    "from datetime import datetime, timedelta\n",
    "df=libro['Perfiles Iniciales_hasta032021']\n",
    "\n",
    "df.columns = df.iloc[0]\n",
    "df = df[1:]\n",
    "df['Mes']=df.index.to_list()\n",
    "df=df.reset_index(drop=True)\n",
    "# df\n",
    "dti = pd.date_range(\"2021-01-01 01:00:00\", periods=df.shape[0], freq=\"H\")\n",
    "df['dti']=dti\n",
    "df = df.set_index('dti')\n",
    "df=df.rename(columns={'': 'Demanda de Referencia 2021 (MW)'})"
   ]
  },
  {
   "cell_type": "code",
   "execution_count": 37,
   "id": "34423789",
   "metadata": {},
   "outputs": [],
   "source": [
    "ss=df.loc[dia]['Pa,0m,d,h'].max()\n",
    "# df.loc[dia]['Pa,0m,d,h'].apply(lambda x: 100*x)\n",
    "\n"
   ]
  },
  {
   "cell_type": "code",
   "execution_count": 38,
   "id": "c8901002",
   "metadata": {},
   "outputs": [
    {
     "data": {
      "image/png": "[encoded data removed]",
      "text/plain": [
       "<Figure size 648x504 with 1 Axes>"
      ]
     },
     "metadata": {
      "needs_background": "light"
     },
     "output_type": "display_data"
    }
   ],
   "source": [
    "dia='2021-05-10'\n",
    "ax=df.loc[dia]['Pa,0m,d,h'].apply(lambda x: 100*x/ss).plot(kind=\"bar\",figsize=(9, 7),xticks=(df.loc[dia].Hora.to_list()))"
   ]
  },
  {
   "cell_type": "markdown",
   "id": "7633d967",
   "metadata": {},
   "source": [
    "De  esta  manera,  se  obtiene  el  ratio  horario  de  uso  de  la  capacidad  disponible  por  un  consumidor  doméstico. Suponiendo que los VE fuera programadospara que iniciaran su carga a partir de la 1 de la mañana (hora de inicio de la tarifa de acceso supervalle, que coincide además con los precios más bajos de la energía en el mercado), un consumidor  doméstico  tendría  disponible  en  un  escenario  de  máxima  demanda  para  esta  hora,  prácticamente  el 50% de su capacidad de punta para poder realizar esta recarga. \n",
    "\n",
    "En caso el de que se comprobara que los VE conectados a los puntos de recarga de las viviendas no realizan en su mayoría una recarga lenta a partir de esta hora, este coeficiente debería ser recalculado."
   ]
  },
  {
   "cell_type": "code",
   "execution_count": null,
   "id": "988ab8e8",
   "metadata": {},
   "outputs": [],
   "source": []
  }
 ],
 "metadata": {
  "kernelspec": {
   "display_name": "Python 3",
   "language": "python",
   "name": "python3"
  },
  "language_info": {
   "codemirror_mode": {
    "name": "ipython",
    "version": 3
   },
   "file_extension": ".py",
   "mimetype": "text/x-python",
   "name": "python",
   "nbconvert_exporter": "python",
   "pygments_lexer": "ipython3",
   "version": "3.8.5"
  }
 },
 "nbformat": 4,
 "nbformat_minor": 5
}
