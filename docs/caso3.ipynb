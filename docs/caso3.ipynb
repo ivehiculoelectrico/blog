{
 "cells": [
  {
   "cell_type": "code",
   "execution_count": 1,
   "id": "b8bd653c",
   "metadata": {
    "code_folding": [
     0
    ]
   },
   "outputs": [
    {
     "data": {
      "text/html": [
       "<style>\n",
       "img {\n",
       "  display: block;\n",
       "  margin-left: auto;\n",
       "  margin-right: auto;\n",
       "}\n",
       "\n",
       "table {\n",
       "  display: block;\n",
       "  margin-left: auto;\n",
       "  margin-right: auto;\n",
       "}\n",
       "\n",
       "\n",
       ".dataframe {\n",
       "  display: block;\n",
       "  margin-left: auto;\n",
       "  margin-right: auto;\n",
       "  width: 40%;\n",
       "}\n",
       "\n",
       "\n",
       "</style>\n",
       "<script>\n",
       "code_show=true; \n",
       "function code_toggle() {\n",
       " if (code_show){\n",
       " $('div.input').hide();\n",
       " } else {\n",
       " $('div.input').show();\n",
       " }\n",
       " code_show = !code_show\n",
       "} \n",
       "$( document ).ready(code_toggle);\n",
       "</script>\n",
       "\n",
       "<form action=\"javascript:code_toggle()\"><input type=\"submit\" value=\"\"></form>\n"
      ],
      "text/plain": [
       "<IPython.core.display.HTML object>"
      ]
     },
     "metadata": {},
     "output_type": "display_data"
    }
   ],
   "source": [
    "%%html\n",
    "<style>\n",
    "img {\n",
    "  display: block;\n",
    "  margin-left: auto;\n",
    "  margin-right: auto;\n",
    "}\n",
    "\n",
    "table {\n",
    "  display: block;\n",
    "  margin-left: auto;\n",
    "  margin-right: auto;\n",
    "}\n",
    "\n",
    "\n",
    ".dataframe {\n",
    "  display: block;\n",
    "  margin-left: auto;\n",
    "  margin-right: auto;\n",
    "  width: 40%;\n",
    "}\n",
    "\n",
    "\n",
    "</style>\n",
    "<script>\n",
    "code_show=true; \n",
    "function code_toggle() {\n",
    " if (code_show){\n",
    " $('div.input').hide();\n",
    " } else {\n",
    " $('div.input').show();\n",
    " }\n",
    " code_show = !code_show\n",
    "} \n",
    "$( document ).ready(code_toggle);\n",
    "</script>\n",
    "\n",
    "<form action=\"javascript:code_toggle()\"><input type=\"submit\" value=\"\"></form>\n"
   ]
  },
  {
   "cell_type": "markdown",
   "id": "5853d6ae",
   "metadata": {},
   "source": [
    "ANEXO 2 DE LA GUIA\n",
    "# PREVISIÓN DE CARGAS EN \n",
    "\n",
    "## EDIFICIOS DE VIVIENDAS DE NUEVA CONSTRUCCIÓN CON GARAJES EN RÉGIMEN DE CONDOMINIO."
   ]
  },
  {
   "cell_type": "markdown",
   "id": "9840eff9",
   "metadata": {},
   "source": [
    "## Introduccion"
   ]
  },
  {
   "cell_type": "markdown",
   "id": "bad00edf",
   "metadata": {},
   "source": [
    "Según la ITC-BT 10 del REBT sobre previsión de cargas para suministros en baja tensión, la carga mínima\n",
    "correspondiente a las zonas de estacionamiento con infraestructura para la recarga de los vehículos eléctricos en\n",
    "viviendas de nueva construcción, cuando se trate de plazas de aparcamientos o estacionamientos colectivos en\n",
    "edificios o conjuntos inmobiliarios en régimen de propiedad horizontal se calculará multiplicando 3680 W, por el 10%\n",
    "del total de las plazas de aparcamiento construidas. Esta potencia se multiplicará por el factor de simultaneidad que\n",
    "corresponda y se sumará con la previsión de potencia del resto de la instalación del edificio, en función del esquema\n",
    "de la instalación y de la disponibilidad de un sistema protección de la línea general de alimentación. No obstante el\n",
    "proyectista de la instalación podrá prever una potencia instalada mayor cuando disponga de los datos que lo\n",
    "justifiquen.\n",
    "\n",
    "Por otra parte, según se indica en el apartado 3.2. de esta ITC-BT 52, la preinstalación eléctrica para la recarga de\n",
    "VE, facilitará la utilización posterior de cualquiera de los posibles esquemas de instalación, y constará de sistemas\n",
    "de conducción de cables desde la centralización de contadores hacia las vías principales del aparcamiento o\n",
    "estacionamiento con objeto de poder alimentar posteriormente las estaciones de recarga que se puedan ubicar en\n",
    "las plazas individuales del aparcamiento o estacionamiento, mediante derivaciones del sistema de conducción de\n",
    "cables de longitud inferior a 20 m. Estos sistemas de conducción de cables se dimensionarán de forma que permitan\n",
    "la alimentación de al menos el 15% de las plazas mediante cualquiera de los esquemas posibles de instalación.\n",
    "\n",
    "Estos porcentajes sobre el total de plazas del 10% para la previsión de cargas o del 15% para dimensionar el\n",
    "tamaño de los sistemas de conducción de cables deben considerarse como valores mínimos reglamentarios. Sin\n",
    "embargo, para facilitar y reducir el coste de las instalaciones necesarias para la recarga, se recomienda que la\n",
    "preinstalación eléctrica se prepare para que el 100% de las plazas de garaje puedan disponer en un futuro de un\n",
    "punto de recarga para el vehículo eléctrico y que la previsión de cargas se adapte también en consecuencia. Por\n",
    "estos motivos es muy conveniente que los promotores inmobiliarios realicen la preinstalación para la totalidad de las\n",
    "plazas de garaje en sus nuevas promociones, quedando listas para dar respuesta a las futuras solicitudes de puntos\n",
    "de recarga que puedan tener sus propietarios, simplificando de este modo las necesidades de adecuación de la\n",
    "instalación ya que bastará con cablear el sistema de conducción de cables y colocar el punto de recarga para\n",
    "terminar la infraestructura.\n",
    "\n",
    "Con el objetivo de no condicionar ni restringir las posteriores formas de conexión y contratación, en los casos en los\n",
    "que se proyecten dos centralizaciones de contadores (una para las viviendas y otra para las estaciones de carga del\n",
    "vehículo eléctrico) la canalización que las une debería dimensionarse con un espacio suficiente que permita otros\n",
    "esquemas alternativos (por ejemplo, el esquema 1 o el 2).\n",
    "\n",
    "Para realizar la previsión de cargas en las nuevas promociones inmobiliarias de viviendas con garajes en régimen\n",
    "de condominio cabe distinguir dos casos según los esquemas utilizados.\n",
    "\n",
    "En el caso de utilizar el esquema de instalación 2 (o el 4a), la previsión de cargas del VE se debe integrar con la de\n",
    "la vivienda, ya que ambos consumos serán medidos por el mismo contador, mientras que para el resto de\n",
    "esquemas es posible separar los consumos del VE de los consumos de las viviendas, ya que estarán asociados a\n",
    "contratos de suministro independientes y sus consumos se medirán con contadores principales diferentes."
   ]
  },
  {
   "cell_type": "markdown",
   "id": "01fa4dd4",
   "metadata": {},
   "source": [
    "\n",
    "Este anexo establece el procedimiento recomendado para \n",
    "determinar la previsión de cargas en garajes de nuevaSconstrucción en régimen de condominio cuando se desee realizar la preinstalación en un número de plazas, N,\n",
    "elevado, por encima del 50% del total de plazas de garaje construidas, porcentaje muy superior al mínimo\n",
    "reglamentario del 10%. Este procedimiento pretende realizar una buena previsión de cargas, evitando previsiones\n",
    "excesivas.\n",
    "\n",
    "La previsión de cargas se estudiará agrupando los esquemas en tres casos distintos, suponiendo un número N de\n",
    "puntos de recarga de 3 680 W de potencia instalada en cada uno. No obstante, el procedimiento es generalizable\n",
    "para otras potencias distintas por punto de recarga."
   ]
  },
  {
   "cell_type": "markdown",
   "id": "47c0c68e",
   "metadata": {
    "heading_collapsed": true
   },
   "source": [
    "## a) Caso general, aplicables a los esquemas 1a , 1b, 1c y 4b."
   ]
  },
  {
   "cell_type": "markdown",
   "id": "0d334173",
   "metadata": {
    "hidden": true
   },
   "source": [
    "La previsión de cargas del edificio para el caso general se calcula aplicando la expresión (1):\n",
    "\n",
    "$$P_{edificio}=(P_1+P_2+P_3+P_4)+P_{VE} \\tag{1}$$\n",
    "\n",
    "La previsión de cargas para la recarga de vehículos en el edificio, P VE , se calcula según esté o no prevista la\n",
    "instalación de un SPL mediante la aplicación del factor de simultaneidad FS1.\n",
    "\n",
    "$$P_{VE}=FS_1*P_5=FS_1*N*3680 W \\tag{2}$$\n",
    "\n",
    "\n",
    "Donde:\n",
    "\n",
    "- $P_1$ , carga correspondiente al conjunto de viviendas (sin VE) obtenida como el número de viviendas por el coeficiente de simultaneidad de la tabla 1 de la (ITC) BT 10.\n",
    "- $P_2$ , carga correspondiente a los servicios generales del edificio.\n",
    "- $P_3$ , carga correspondiente a locales comerciales y oficinas.\n",
    "- $P_4$ , carga correspondiente a los garajes, pero distintas de la recarga del VE.\n",
    "- $P_{VE}$ , carga prevista para la recarga del VE incluyendo el factor de simultaneidad.\n",
    "- $P_5$ , carga prevista para la recarga del VE, sin factor de simultaneidad.\n",
    "- $F_{S1}$ , factor de simultaneidad cuyo valor depende de si se prevé o no el SPL (0,3 si se prevé y 1 si no se prevé).\n",
    "- $N$ , número de plazas de garaje en las que se realiza la preinstalación.\n",
    "\n",
    "En caso de instalar puntos de recarga con potencia mayor de 3680 W, los cálculos de la fórmula (2) en cuanto a la\n",
    "potencia de cada punto de recarga de vehículo eléctrico se adaptarán al valor concreto de potencia prevista.\n",
    "La ITC-BT 52 no incluía la posible instalación del SPL para el esquema 4b, sin embargo, tampoco la prohibía\n",
    "expresamente. Las diferentes soluciones tecnológicas y opciones disponibles en el mercado, hacen perfectamente\n",
    "viable la instalación del SPL, también en el esquema 4b, muy parecido a los esquemas 1, por lo que el caso general\n",
    "resultará aplicable a todos los esquemas 1a, 1b, 1c y 4b.\n",
    "\n",
    "Una vez finalizada la promoción inmobiliaria con su preinstalación correspondiente para el VE, los puntos de recarga\n",
    "se irán colocando poco a poco según las necesidades de los propietarios de las plazas de garaje, por lo que el valor\n",
    "de la potencia realmente instalada irá creciendo hasta también poco a poco. Una preinstalación con una previsión\n",
    "de cargas P VE , calculada según la expresión (2), constituye una reserva de potencia, que se irá utilizando a medida\n",
    "que se instalen los puntos de recarga reales. Mientras que la potencia realmente instalada una vez colocados los\n",
    "puntos de recarga no supere el valor de P VE que figure en el proyecto no será necesario reforzar, ampliar, duplicar la\n",
    "LGA o realizar una nueva acometida y se podrá autorizar la instalación de nuevos puntos de recarga aún sin la\n",
    "instalación del SPL.\n",
    "\n",
    "En el proyecto se debe indicar el punto de recarga número Y, a partir del cual será necesario instalar el SPL. El valor\n",
    "de Y se calculará como la parte entera del número que resulte de multiplicar 0,3 por N.\n",
    "\n",
    "Cada vez que se complete la instalación con uno o varios puntos de recarga el instalador tendrá que realizar una\n",
    "memoria técnica de diseño para el punto o puntos de recarga instalados sin ser necesario un proyecto, salvo que la\n",
    "previsión de carga de los puntos instalados desde el mismo circuito o cuadro superen los 50 kW (o 10 kW en\n",
    "instalaciones de exterior) tal y como se describe en la ITC-BT 04. En la memoria técnica de diseño, o en su caso en\n",
    "el proyecto, se hará constar el número de puntos de recarga instalados hasta la fecha, así como el valor de Y a\n",
    "partir del cual se debe instalar el SPL"
   ]
  },
  {
   "cell_type": "markdown",
   "id": "9f79cef4",
   "metadata": {
    "heading_collapsed": true
   },
   "source": [
    "## b) Previsión de cargas para el esquema 2 o el 4a."
   ]
  },
  {
   "cell_type": "markdown",
   "id": "205cf2ba",
   "metadata": {
    "hidden": true
   },
   "source": [
    "La previsión de cargas de un edificio nuevo en el que el promotor opte por el esquema 2 o el 4a (instalación con un\n",
    "contador principal común para la vivienda y para la estación de recarga de VE) se realizará aplicando (3):\n",
    "\n",
    "$$P_{edificio} = P_1 + P_2 + P_3 + P_4  \\tag{3}$$\n",
    "\n",
    "donde:\n",
    "\n",
    "- $P_1$ , carga correspondiente al conjunto de viviendas, incluida la carga correspondiente al VE para aquellas viviendas que tengan preinstalación del VE asignada.\n",
    "- $P_2$ , carga correspondiente a los servicios generales del edificio.\n",
    "- $P_3$ , carga correspondiente a locales comerciales y oficinas.\n",
    "- $P_4$ , carga correspondiente a los garajes, pero distintas de la recarga del VE.\n",
    "\n",
    "\n",
    "No existe todavía mucha experiencia real para determinar la previsión de cargas para una vivienda que incluya un\n",
    "punto de recarga para el VE, no obstante, la costumbre más extendida para su recarga cuando el usuario del\n",
    "vehículo dispone de una plaza de garaje asociada a la vivienda es la siguiente.\n",
    "- Se trata de recargar aprovechando las tarifas supervalle y bajos precios del mercado durante la noche, así como la baja utilización del resto de circuitos de la vivienda por parte del usuario.\n",
    "- Se utilizan los sistemas de programación del propio vehículo que permiten al conductor seleccionar el tiempo durante el cual se realizará la recarga, en otros casos se puede instalar fácilmente en el punto de recarga un programador / temporizador.\n",
    "\n",
    "En función de estas premisas y los estudios descritos en el Anexo 3 de esta guía, se propone considerar dos\n",
    "períodos horarios (nocturno y diurno), y considerar como previsión de cargas para las viviendas el mayor valor\n",
    "obtenido de los dos períodos.\n",
    "\n",
    "$$P_1=maximo[P_1(diurno),P_1(nocturno)]\\tag{4}$$\n",
    "\n",
    "\n",
    "####  Período diurno: \n",
    "la previsión de cargas para las viviendas sin VE se calcularía según la ITC-BT 10, mientras\n",
    "que la previsión de cargas para viviendas con VE se calcularía con la expresión (5):\n",
    "\n",
    "$$P_{vivienda} ( con VE ) = P_{vivienda} (sin VE ) + ( 0 , 3 ) 3680 W\\tag{5}$$\n",
    "\n",
    "Según esta expresión la previsión de cargas durante el día para una vivienda con preinstalación de punto\n",
    "de recarga para el VE se considera como la suma de la previsión de cargas de una vivienda igual que no\n",
    "tuviera esta preinstalación más la carga prevista para el vehículo eléctrico con un factor de simultaneidad\n",
    "de 0,3. Esto significa que no es totalmente descartable la recarga del VE durante el día, por ejemplo que se\n",
    "inicie a las 19 h o las 20 horas, aunque en este caso lo más común es que usuario opte por no conectar al\n",
    "mismo tiempo todas las cargas de su vivienda.\n",
    "\n",
    "Si denominamos A, al número de viviendas con preinstalación para el VE, y B al número de viviendas sin\n",
    "preinstalación, supuestas todas ellas con el mismo nivel de electrificación se puede calcular la potencia\n",
    "media aritmética por vivienda como:"
   ]
  },
  {
   "cell_type": "markdown",
   "id": "c7e3e7e9",
   "metadata": {
    "hidden": true
   },
   "source": [
    "$$P_{m,v}=\\frac{A * P_{vivienda} ( conVE ) + B * P_{vivienda} ( sin VE )}{A+B}\\tag{6}$$\n",
    "\n",
    "$$P_1(diurno)=CS*P_{m,v}\\tag{7}$$\n",
    "\n",
    "donde:\n",
    "- $P_{m, v}$\n",
    "valor medio aritmético de la previsión de carga correspondiente al conjunto de viviendas,\n",
    "incluyendo en la previsión de cargas de las viviendas la carga del VE.\n",
    "- CS\n",
    "coeficiente de simultaneidad de la tabla 1 de la ITC-BT 10, que depende únicamente del número\n",
    "total de viviendas (A+B)."
   ]
  },
  {
   "cell_type": "markdown",
   "id": "8f283bdd",
   "metadata": {
    "hidden": true
   },
   "source": [
    "#### Período nocturno: \n",
    "la previsión de cargas durante el período nocturno se calcularía separando la carga de\n",
    "las viviendas de la carga para el VE, sumando para ello el consumo nocturno de las viviendas (sin VE) al\n",
    "producto del número de puntos de recarga previstos por 3680 W.\n",
    "$$P_1(nocturno)=P_{viviendas}(nocturno)+N*3680 W \\tag{8}$$\n",
    "\n",
    "El consumo nocturno de las viviendas se puede calcular en función de la potencia prevista por vivienda\n",
    "(supuestas todas del mismo nivel de electrificación) del y coeficiente de simultaneidad, CS,aplicable según\n",
    "la tabla 1 de la ITC-BT 10, siguiendo la expresión (9):\n",
    "\n",
    "$$P_{viviendas}(nocturno)=0.5*CS*P_{vivienda}(sin VE)+N*3680W \\tag{9}$$\n",
    "\n",
    "Agrupando las expresiones (8) y (9):\n",
    "$$P_1 ( nocturno ) = 0.5 * CS * P_{vivienda} (sin VE ) + N * 3680 W \\tag{10}$$\n",
    "\n",
    "Puede observarse como en la expresión (10) el factor de simultaneidad entre la previsión de cargas del VE\n",
    "y la previsión de cargas de la carga de las viviendas es igual a la unidad, tal y como se indica en la ITC BT-52. La justificación del coeficiente 0,5 de las expresiones (9) y (10) se incluye en el Anexo 3 de esta guía.\n",
    "En el caso particular de que las viviendas estuvieran previstas para tarifa nocturna, no procede realizar la\n",
    "distinción entre consumo diurno y nocturno, ya que el mayor consumo se producirá durante el período\n",
    "nocturno, por lo que la expresión a aplicar para calcular la carga P1 correspondiente al conjunto de\n",
    "viviendas con tarifa nocturna, teniendo en cuenta el apartado 3.1 de la ITC-BT 10 sería la siguiente:\n",
    "\n",
    "$$P_1 ( caso\\ tarifa\\ nocturna ) = NV * P vivienda (sin VE ) + N * 3680 W \\tag{11}$$\n",
    "\n",
    "siendo \n",
    "- NV: número de viviendas con tarifa nocturna\n"
   ]
  },
  {
   "cell_type": "markdown",
   "id": "5afbd431",
   "metadata": {
    "heading_collapsed": true
   },
   "source": [
    "## c) Previsión de cargas para el esquema 3a o el 3b."
   ]
  },
  {
   "cell_type": "markdown",
   "id": "ee53bcb9",
   "metadata": {
    "hidden": true
   },
   "source": [
    "Este caso resulta parecido al caso a) por lo que la previsión de cargas del edificio se calcula con la expresión (1):\n",
    "\n",
    "$$P_{edificio} = ( P_1 + P_2 + P_3 + P_4 ) + P_{VE} \\tag{1}$$\n",
    "\n",
    "La previsión de cargas para la recarga de vehículos en el edificio, P VE , se calcula aplicando factor de simultaneidad unidad.\n",
    "\n",
    "$$P_{VE} = P_5 + N * 3680 W \\tag{12}$$\n",
    "\n",
    "En caso de instalar puntos de recarga con potencia superior a 3680 W, los cálculos de las expresiones (5), (8), (10),\n",
    "(11) y (12) en cuanto a la potencia de recarga del VE se deberán adaptar proporcionalmente a la nueva potencia"
   ]
  },
  {
   "cell_type": "code",
   "execution_count": null,
   "id": "d7e32ede",
   "metadata": {
    "hidden": true
   },
   "outputs": [],
   "source": []
  }
 ],
 "metadata": {
  "kernelspec": {
   "display_name": "Python 3",
   "language": "python",
   "name": "python3"
  },
  "language_info": {
   "codemirror_mode": {
    "name": "ipython",
    "version": 3
   },
   "file_extension": ".py",
   "mimetype": "text/x-python",
   "name": "python",
   "nbconvert_exporter": "python",
   "pygments_lexer": "ipython3",
   "version": "3.8.5"
  }
 },
 "nbformat": 4,
 "nbformat_minor": 5
}
